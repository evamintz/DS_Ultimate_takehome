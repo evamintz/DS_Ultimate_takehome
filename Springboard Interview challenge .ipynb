{
 "cells": [
  {
   "cell_type": "markdown",
   "metadata": {},
   "source": [
    "# Data Analysis Interview Challenge\n",
    "\n",
    "\"Ultimate Data Science Challenge\""
   ]
  },
  {
   "cell_type": "markdown",
   "metadata": {},
   "source": [
    "### Part 1  - Exploratory Data Analysis\n",
    "\n",
    "Aggregate  login   counts   based   on   15­ minute   time   intervals,   and\n",
    "visualize   and   describe   the   resulting   time   series   of   login   counts   in   ways   that   best   characterize   the\n",
    "underlying   patterns   of   the   demand.   Report/illustrate   important   features   of   the   demand,\n",
    "such   as   daily   cycles. "
   ]
  },
  {
   "cell_type": "code",
   "execution_count": 1,
   "metadata": {},
   "outputs": [
    {
     "name": "stderr",
     "output_type": "stream",
     "text": [
      "/home/evan/Programming/lib/python3.7/site-packages/sklearn/utils/deprecation.py:144: FutureWarning: The sklearn.utils.testing module is  deprecated in version 0.22 and will be removed in version 0.24. The corresponding classes / functions should instead be imported from sklearn.utils. Anything that cannot be imported from sklearn.utils is now part of the private API.\n",
      "  warnings.warn(message, FutureWarning)\n"
     ]
    }
   ],
   "source": [
    "#general\n",
    "import pandas as pd\n",
    "import numpy as np\n",
    "import json\n",
    "import matplotlib.pyplot as plt\n",
    "import seaborn as sns\n",
    "import datetime as dt\n",
    "\n",
    "#machine learning\n",
    "from sklearn.model_selection import train_test_split\n",
    "from sklearn.model_selection import GridSearchCV\n",
    "from sklearn.pipeline import Pipeline\n",
    "from sklearn.preprocessing import OneHotEncoder\n",
    "from sklearn.ensemble import RandomForestClassifier\n",
    "from sklearn.metrics import confusion_matrix\n",
    "from sklearn.metrics import accuracy_score\n",
    "from sklearn.preprocessing import MinMaxScaler\n",
    "from sklearn import linear_model\n",
    "from sklearn.model_selection import KFold, cross_val_score\n",
    "from sklearn.neighbors import KNeighborsClassifier\n",
    "from sklearn.tree import DecisionTreeClassifier\n",
    "from sklearn.naive_bayes import GaussianNB\n",
    "from sklearn.linear_model import LogisticRegression\n",
    "from sklearn.svm import LinearSVC\n",
    "from sklearn.ensemble import AdaBoostClassifier\n",
    "from sklearn.discriminant_analysis import LinearDiscriminantAnalysis\n",
    "\n",
    "\n",
    "#deal with any warnings\n",
    "from sklearn.utils.testing import ignore_warnings\n",
    "from sklearn.exceptions import ConvergenceWarning\n",
    "from warnings import simplefilter\n",
    "# ignore all future warnings\n",
    "simplefilter(action='ignore', category=FutureWarning)"
   ]
  },
  {
   "cell_type": "code",
   "execution_count": 2,
   "metadata": {
    "scrolled": true
   },
   "outputs": [
    {
     "name": "stdout",
     "output_type": "stream",
     "text": [
      "<class 'pandas.core.frame.DataFrame'>\n",
      "RangeIndex: 93142 entries, 0 to 93141\n",
      "Data columns (total 1 columns):\n",
      " #   Column      Non-Null Count  Dtype         \n",
      "---  ------      --------------  -----         \n",
      " 0   login_time  93142 non-null  datetime64[ns]\n",
      "dtypes: datetime64[ns](1)\n",
      "memory usage: 727.8 KB\n"
     ]
    }
   ],
   "source": [
    "#import login time data into pandas dataframe\n",
    "login_df = pd.read_json(r'/home/evan/Programming/Jupiter Projects/Springboard Interview Challenge/ultimate_challenge/logins.json')\n",
    "login_df.info()"
   ]
  },
  {
   "cell_type": "code",
   "execution_count": 3,
   "metadata": {
    "scrolled": true
   },
   "outputs": [],
   "source": [
    "#resampling df to 15-minute intervals\n",
    "login_df = login_df.resample(\"15min\", on=\"login_time\").count()\n",
    "\n",
    "login_df.rename({\"login_time\":\"login_count\"}, axis=1, inplace=True)\n",
    "login_df.reset_index(inplace=True)"
   ]
  },
  {
   "cell_type": "code",
   "execution_count": 4,
   "metadata": {},
   "outputs": [
    {
     "data": {
      "text/html": [
       "<div>\n",
       "<style scoped>\n",
       "    .dataframe tbody tr th:only-of-type {\n",
       "        vertical-align: middle;\n",
       "    }\n",
       "\n",
       "    .dataframe tbody tr th {\n",
       "        vertical-align: top;\n",
       "    }\n",
       "\n",
       "    .dataframe thead th {\n",
       "        text-align: right;\n",
       "    }\n",
       "</style>\n",
       "<table border=\"1\" class=\"dataframe\">\n",
       "  <thead>\n",
       "    <tr style=\"text-align: right;\">\n",
       "      <th></th>\n",
       "      <th>login_count</th>\n",
       "    </tr>\n",
       "    <tr>\n",
       "      <th>Day</th>\n",
       "      <th></th>\n",
       "    </tr>\n",
       "  </thead>\n",
       "  <tbody>\n",
       "    <tr>\n",
       "      <th>Monday</th>\n",
       "      <td>8823</td>\n",
       "    </tr>\n",
       "    <tr>\n",
       "      <th>Tuesday</th>\n",
       "      <td>9268</td>\n",
       "    </tr>\n",
       "    <tr>\n",
       "      <th>Wednesday</th>\n",
       "      <td>10339</td>\n",
       "    </tr>\n",
       "    <tr>\n",
       "      <th>Thursday</th>\n",
       "      <td>11960</td>\n",
       "    </tr>\n",
       "    <tr>\n",
       "      <th>Friday</th>\n",
       "      <td>15208</td>\n",
       "    </tr>\n",
       "    <tr>\n",
       "      <th>Saturday</th>\n",
       "      <td>19377</td>\n",
       "    </tr>\n",
       "    <tr>\n",
       "      <th>Sunday</th>\n",
       "      <td>18167</td>\n",
       "    </tr>\n",
       "  </tbody>\n",
       "</table>\n",
       "</div>"
      ],
      "text/plain": [
       "           login_count\n",
       "Day                   \n",
       "Monday            8823\n",
       "Tuesday           9268\n",
       "Wednesday        10339\n",
       "Thursday         11960\n",
       "Friday           15208\n",
       "Saturday         19377\n",
       "Sunday           18167"
      ]
     },
     "execution_count": 4,
     "metadata": {},
     "output_type": "execute_result"
    }
   ],
   "source": [
    "#look at days of logins \n",
    "login_df[\"Day\"] = login_df[\"login_time\"].dt.day_name()\n",
    "\n",
    "\n",
    "dow = [ 'Monday', 'Tuesday', 'Wednesday', 'Thursday', 'Friday', 'Saturday', 'Sunday']\n",
    "weekday_df = login_df.groupby(['Day']).sum().reindex(dow) \n",
    "weekday_df"
   ]
  },
  {
   "cell_type": "markdown",
   "metadata": {},
   "source": [
    "<font color='darkblue'>The weekend is clearly the busiest with the most logins on Friday, Saturday, and Sunday. From Monday the logins climbs as the week progresses, peaking on Saturday before falling slightly on Sunday."
   ]
  },
  {
   "cell_type": "code",
   "execution_count": 5,
   "metadata": {},
   "outputs": [
    {
     "data": {
      "text/html": [
       "<div>\n",
       "<style scoped>\n",
       "    .dataframe tbody tr th:only-of-type {\n",
       "        vertical-align: middle;\n",
       "    }\n",
       "\n",
       "    .dataframe tbody tr th {\n",
       "        vertical-align: top;\n",
       "    }\n",
       "\n",
       "    .dataframe thead th {\n",
       "        text-align: right;\n",
       "    }\n",
       "</style>\n",
       "<table border=\"1\" class=\"dataframe\">\n",
       "  <thead>\n",
       "    <tr style=\"text-align: right;\">\n",
       "      <th></th>\n",
       "      <th>login_count</th>\n",
       "      <th>Average_logins</th>\n",
       "    </tr>\n",
       "    <tr>\n",
       "      <th>Hour</th>\n",
       "      <th></th>\n",
       "      <th></th>\n",
       "    </tr>\n",
       "  </thead>\n",
       "  <tbody>\n",
       "    <tr>\n",
       "      <th>0</th>\n",
       "      <td>5993</td>\n",
       "      <td>14.688725</td>\n",
       "    </tr>\n",
       "    <tr>\n",
       "      <th>1</th>\n",
       "      <td>6317</td>\n",
       "      <td>15.482843</td>\n",
       "    </tr>\n",
       "    <tr>\n",
       "      <th>2</th>\n",
       "      <td>5800</td>\n",
       "      <td>14.215686</td>\n",
       "    </tr>\n",
       "    <tr>\n",
       "      <th>3</th>\n",
       "      <td>4831</td>\n",
       "      <td>11.840686</td>\n",
       "    </tr>\n",
       "    <tr>\n",
       "      <th>4</th>\n",
       "      <td>5034</td>\n",
       "      <td>12.338235</td>\n",
       "    </tr>\n",
       "    <tr>\n",
       "      <th>5</th>\n",
       "      <td>2945</td>\n",
       "      <td>7.218137</td>\n",
       "    </tr>\n",
       "    <tr>\n",
       "      <th>6</th>\n",
       "      <td>1138</td>\n",
       "      <td>2.789216</td>\n",
       "    </tr>\n",
       "    <tr>\n",
       "      <th>7</th>\n",
       "      <td>815</td>\n",
       "      <td>1.997549</td>\n",
       "    </tr>\n",
       "    <tr>\n",
       "      <th>8</th>\n",
       "      <td>818</td>\n",
       "      <td>2.004902</td>\n",
       "    </tr>\n",
       "    <tr>\n",
       "      <th>9</th>\n",
       "      <td>1527</td>\n",
       "      <td>3.742647</td>\n",
       "    </tr>\n",
       "    <tr>\n",
       "      <th>10</th>\n",
       "      <td>3064</td>\n",
       "      <td>7.509804</td>\n",
       "    </tr>\n",
       "    <tr>\n",
       "      <th>11</th>\n",
       "      <td>5799</td>\n",
       "      <td>14.213235</td>\n",
       "    </tr>\n",
       "    <tr>\n",
       "      <th>12</th>\n",
       "      <td>4964</td>\n",
       "      <td>12.166667</td>\n",
       "    </tr>\n",
       "    <tr>\n",
       "      <th>13</th>\n",
       "      <td>3611</td>\n",
       "      <td>8.850490</td>\n",
       "    </tr>\n",
       "    <tr>\n",
       "      <th>14</th>\n",
       "      <td>3426</td>\n",
       "      <td>8.397059</td>\n",
       "    </tr>\n",
       "    <tr>\n",
       "      <th>15</th>\n",
       "      <td>3038</td>\n",
       "      <td>7.446078</td>\n",
       "    </tr>\n",
       "    <tr>\n",
       "      <th>16</th>\n",
       "      <td>2832</td>\n",
       "      <td>6.941176</td>\n",
       "    </tr>\n",
       "    <tr>\n",
       "      <th>17</th>\n",
       "      <td>2584</td>\n",
       "      <td>6.333333</td>\n",
       "    </tr>\n",
       "    <tr>\n",
       "      <th>18</th>\n",
       "      <td>2980</td>\n",
       "      <td>7.303922</td>\n",
       "    </tr>\n",
       "    <tr>\n",
       "      <th>19</th>\n",
       "      <td>3235</td>\n",
       "      <td>8.007426</td>\n",
       "    </tr>\n",
       "    <tr>\n",
       "      <th>20</th>\n",
       "      <td>4103</td>\n",
       "      <td>10.056373</td>\n",
       "    </tr>\n",
       "    <tr>\n",
       "      <th>21</th>\n",
       "      <td>5623</td>\n",
       "      <td>13.781863</td>\n",
       "    </tr>\n",
       "    <tr>\n",
       "      <th>22</th>\n",
       "      <td>6607</td>\n",
       "      <td>16.193627</td>\n",
       "    </tr>\n",
       "    <tr>\n",
       "      <th>23</th>\n",
       "      <td>6058</td>\n",
       "      <td>14.848039</td>\n",
       "    </tr>\n",
       "  </tbody>\n",
       "</table>\n",
       "</div>"
      ],
      "text/plain": [
       "      login_count  Average_logins\n",
       "Hour                             \n",
       "0            5993       14.688725\n",
       "1            6317       15.482843\n",
       "2            5800       14.215686\n",
       "3            4831       11.840686\n",
       "4            5034       12.338235\n",
       "5            2945        7.218137\n",
       "6            1138        2.789216\n",
       "7             815        1.997549\n",
       "8             818        2.004902\n",
       "9            1527        3.742647\n",
       "10           3064        7.509804\n",
       "11           5799       14.213235\n",
       "12           4964       12.166667\n",
       "13           3611        8.850490\n",
       "14           3426        8.397059\n",
       "15           3038        7.446078\n",
       "16           2832        6.941176\n",
       "17           2584        6.333333\n",
       "18           2980        7.303922\n",
       "19           3235        8.007426\n",
       "20           4103       10.056373\n",
       "21           5623       13.781863\n",
       "22           6607       16.193627\n",
       "23           6058       14.848039"
      ]
     },
     "execution_count": 5,
     "metadata": {},
     "output_type": "execute_result"
    }
   ],
   "source": [
    "#hourly analysis\n",
    "login_df[\"Hour\"] = login_df[\"login_time\"].dt.hour\n",
    "\n",
    "hourly_df = login_df.groupby(\"Hour\").sum()[[\"login_count\"]]\n",
    "\n",
    "hourly_df[\"Average_logins\"] = login_df.groupby(\"Hour\").mean()[[\"login_count\"]]\n",
    "\n",
    "hourly_df"
   ]
  },
  {
   "cell_type": "markdown",
   "metadata": {},
   "source": [
    "<font color='darkblue'>The busiest hours are between 10am-1pm and 8pm-4am. It seems like there are a lot of logins during lunchtime while the majority are late at night and very early in the morning."
   ]
  },
  {
   "cell_type": "code",
   "execution_count": 6,
   "metadata": {
    "scrolled": true
   },
   "outputs": [
    {
     "data": {
      "image/png": "[encoded data removed]",
      "text/plain": [
       "<Figure size 1224x432 with 1 Axes>"
      ]
     },
     "metadata": {
      "needs_background": "light"
     },
     "output_type": "display_data"
    }
   ],
   "source": [
    "#plot average daily/hourly logins\n",
    "\n",
    "login_df = login_df.groupby([\"Hour\", \"Day\"]).mean().reset_index()\n",
    "\n",
    "f, axes = plt.subplots(figsize=(17,6))\n",
    "ax = sns.lineplot(x=\"Hour\", y=\"login_count\", data=login_df, hue=\"Day\")\n",
    "plt.xticks(range(0,25))\n",
    "\n",
    "#sorts days of week in legend\n",
    "handles, labels = plt.gca().get_legend_handles_labels()\n",
    "order = [0, 2, 6, 7, 5, 1, 3, 4]\n",
    "plt.legend([handles[idx] for idx in order],[labels[idx] for idx in order])\n",
    "ax.set(title=\"Average Daily Logins by Hour\")\n",
    "\n",
    "\n",
    "plt.show()"
   ]
  },
  {
   "cell_type": "markdown",
   "metadata": {},
   "source": [
    "<font color='darkblue'>Visualizing the data makes for much better analysis. While the lunch hours are prevelant and restricted to specific times during the week, on the weekend they are spread out more between 10am-5pm; people are most likely getting much later and varied starts to their days.\n",
    "\n",
    "Now we can also see that while Friday has a lot of logins they have a separate pattern from any other day on account of being the last day of the work-week. \n",
    "\n",
    "People login throughout the early morning both saturday and sunday from midnight to 4am. Friday has the most logins during the evening, followed by Saturday, and Sunday has the fewest."
   ]
  },
  {
   "cell_type": "markdown",
   "metadata": {},
   "source": [
    "### Part 2 Experiment Metrics & Design\n",
    "\n",
    "The   neighboring   cities   of   Gotham   and   Metropolis   have   complementary   circadian   rhythms:   on\n",
    "weekdays,   Ultimate   Gotham   is   most   active   at   night,   and   Ultimate   Metropolis   is   most   active\n",
    "during   the   day.   On   weekends,   there   is   reasonable   activity   in   both   cities.\n",
    "However,   a   toll   bridge,   with   a   two ­way   toll,   between   the   two   cities   causes   driver   partners   to   tend\n",
    "to   be   exclusive   to   each   city.   The   Ultimate   managers   of   city   operations   for   the   two   cities   have\n",
    "proposed   an   experiment   to   encourage   driver   partners   to   be   available   in   both   cities,   by\n",
    "reimbursing   all   toll   costs.</font>"
   ]
  },
  {
   "cell_type": "markdown",
   "metadata": {},
   "source": [
    "1. What   would   you   choose   as   the   key   measure   of   success   of   this   experiment   in\n",
    "encouraging   driver   partners   to   serve   both   cities,   and   why   would   you   choose   this   metric?</font>\n",
    "\n"
   ]
  },
  {
   "cell_type": "markdown",
   "metadata": {},
   "source": [
    "<font color='darkblue'>First I think it is important to note that depending on the distance between the cities it may be more efficient and environmentally friendly to keep vehicles exclusive to one city. I would also expect driver partners to be on a similar circadian cycle to one city or the other, making it difficult for them to take advantage of both (as they also presumably need rest). This possibility contradicts the stated 'cause' (tolls) of driver partners sticking to one city - it is vital to be sure of what the cause of the problem actually is before attempting to create a solution.\n",
    "\n",
    "Depending on the resources available, the most important measure may be tracking vehicles between the two cities. This could be done using the toll booth that is already in place. If there is a significant increase in driver partners going between cities it could be considered successful. However, if the core problem is that one city or the other is lacking driver partners during peak times it may be simpler and more to the point to gauge the availability of cars during these times in each city."
   ]
  },
  {
   "cell_type": "markdown",
   "metadata": {},
   "source": [
    "2. Describe   a   practical   experiment   you   would   design   to   compare   the   effectiveness   of   the\n",
    "proposed   change   in   relation   to   the   key   measure   of   success.   Please   provide   details   on: \n",
    "\n",
    "<font color='darkblue'>Assuming we only care that driver partners are utilizing the toll fee reimbursements, it would be best to collect data on how often driver partners are going through the toll booth. There would need to be an initial data set prior to reimbursements in order to gauge an increase - the longer the better but 4 weeks at the least.  After the reimbursements are offered, collect the same data and see if there has been a significant increase in bridge use. \n",
    "\n",
    "Alternatively, if the main idea is to increase driver partner availibility in the cities during peak times, it would make more sense to collect data by logging in and gathering data on how many drivers are available, and wait times of users throughout each day of each week. Again, for at least a few weeks before implementing any changes.\n",
    "</font>\n",
    "\n",
    "a. how   you   will   implement   the   experiment\n",
    "\n",
    "<font color='darkblue'>If driver partners are being reimbursed for their costs of the bridge toll, there will already be a system in place that could be used to keep track of how often they are going between the two cities. \n",
    "\n",
    "Availibility and wait times can be tracked by a data scraper that collects the data of interest every hour.</font>\n",
    "\n",
    "b. what   statistical   test(s)   you   will   conduct   to   verify   the   significance   of   the\n",
    "observation\n",
    "\n",
    "<font color='darkblue'>Hypothesis testing (t-tests) would be a good way to compare the averaged before/after data and decide if there was a significant improvement.</font>\n",
    "\n",
    "c. how   you   would   interpret   the   results   and   provide   recommendations   to   the   city\n",
    "operations   team   along   with   any   caveats.\n",
    "\n",
    "<font color='darkblue'>Based on the results of the hypothesis testing, the conclusion would either be that the change caused a significant improvement in the driver partner system or there was no significant change. This experiment relies primarily on increase in revenue - if the increase in usage doesn't cover the costs of the toll reimbursement then even with an improvement in availibility it would not make sense to continue with the program. </font>"
   ]
  },
  {
   "cell_type": "markdown",
   "metadata": {},
   "source": [
    "### Part 3 Predictive Modeling"
   ]
  },
  {
   "cell_type": "code",
   "execution_count": 7,
   "metadata": {},
   "outputs": [
    {
     "data": {
      "text/html": [
       "<div>\n",
       "<style scoped>\n",
       "    .dataframe tbody tr th:only-of-type {\n",
       "        vertical-align: middle;\n",
       "    }\n",
       "\n",
       "    .dataframe tbody tr th {\n",
       "        vertical-align: top;\n",
       "    }\n",
       "\n",
       "    .dataframe thead th {\n",
       "        text-align: right;\n",
       "    }\n",
       "</style>\n",
       "<table border=\"1\" class=\"dataframe\">\n",
       "  <thead>\n",
       "    <tr style=\"text-align: right;\">\n",
       "      <th></th>\n",
       "      <th>city</th>\n",
       "      <th>trips_in_first_30_days</th>\n",
       "      <th>signup_date</th>\n",
       "      <th>avg_rating_of_driver</th>\n",
       "      <th>avg_surge</th>\n",
       "      <th>last_trip_date</th>\n",
       "      <th>phone</th>\n",
       "      <th>surge_pct</th>\n",
       "      <th>ultimate_black_user</th>\n",
       "      <th>weekday_pct</th>\n",
       "      <th>avg_dist</th>\n",
       "      <th>avg_rating_by_driver</th>\n",
       "    </tr>\n",
       "  </thead>\n",
       "  <tbody>\n",
       "    <tr>\n",
       "      <th>0</th>\n",
       "      <td>King's Landing</td>\n",
       "      <td>4</td>\n",
       "      <td>2014-01-25</td>\n",
       "      <td>4.7</td>\n",
       "      <td>1.10</td>\n",
       "      <td>2014-06-17</td>\n",
       "      <td>iPhone</td>\n",
       "      <td>15.4</td>\n",
       "      <td>True</td>\n",
       "      <td>46.2</td>\n",
       "      <td>3.67</td>\n",
       "      <td>5.0</td>\n",
       "    </tr>\n",
       "    <tr>\n",
       "      <th>1</th>\n",
       "      <td>Astapor</td>\n",
       "      <td>0</td>\n",
       "      <td>2014-01-29</td>\n",
       "      <td>5.0</td>\n",
       "      <td>1.00</td>\n",
       "      <td>2014-05-05</td>\n",
       "      <td>Android</td>\n",
       "      <td>0.0</td>\n",
       "      <td>False</td>\n",
       "      <td>50.0</td>\n",
       "      <td>8.26</td>\n",
       "      <td>5.0</td>\n",
       "    </tr>\n",
       "    <tr>\n",
       "      <th>2</th>\n",
       "      <td>Astapor</td>\n",
       "      <td>3</td>\n",
       "      <td>2014-01-06</td>\n",
       "      <td>4.3</td>\n",
       "      <td>1.00</td>\n",
       "      <td>2014-01-07</td>\n",
       "      <td>iPhone</td>\n",
       "      <td>0.0</td>\n",
       "      <td>False</td>\n",
       "      <td>100.0</td>\n",
       "      <td>0.77</td>\n",
       "      <td>5.0</td>\n",
       "    </tr>\n",
       "    <tr>\n",
       "      <th>3</th>\n",
       "      <td>King's Landing</td>\n",
       "      <td>9</td>\n",
       "      <td>2014-01-10</td>\n",
       "      <td>4.6</td>\n",
       "      <td>1.14</td>\n",
       "      <td>2014-06-29</td>\n",
       "      <td>iPhone</td>\n",
       "      <td>20.0</td>\n",
       "      <td>True</td>\n",
       "      <td>80.0</td>\n",
       "      <td>2.36</td>\n",
       "      <td>4.9</td>\n",
       "    </tr>\n",
       "    <tr>\n",
       "      <th>4</th>\n",
       "      <td>Winterfell</td>\n",
       "      <td>14</td>\n",
       "      <td>2014-01-27</td>\n",
       "      <td>4.4</td>\n",
       "      <td>1.19</td>\n",
       "      <td>2014-03-15</td>\n",
       "      <td>Android</td>\n",
       "      <td>11.8</td>\n",
       "      <td>False</td>\n",
       "      <td>82.4</td>\n",
       "      <td>3.13</td>\n",
       "      <td>4.9</td>\n",
       "    </tr>\n",
       "  </tbody>\n",
       "</table>\n",
       "</div>"
      ],
      "text/plain": [
       "             city  trips_in_first_30_days signup_date  avg_rating_of_driver  \\\n",
       "0  King's Landing                       4  2014-01-25                   4.7   \n",
       "1         Astapor                       0  2014-01-29                   5.0   \n",
       "2         Astapor                       3  2014-01-06                   4.3   \n",
       "3  King's Landing                       9  2014-01-10                   4.6   \n",
       "4      Winterfell                      14  2014-01-27                   4.4   \n",
       "\n",
       "   avg_surge last_trip_date    phone  surge_pct  ultimate_black_user  \\\n",
       "0       1.10     2014-06-17   iPhone       15.4                 True   \n",
       "1       1.00     2014-05-05  Android        0.0                False   \n",
       "2       1.00     2014-01-07   iPhone        0.0                False   \n",
       "3       1.14     2014-06-29   iPhone       20.0                 True   \n",
       "4       1.19     2014-03-15  Android       11.8                False   \n",
       "\n",
       "   weekday_pct  avg_dist  avg_rating_by_driver  \n",
       "0         46.2      3.67                   5.0  \n",
       "1         50.0      8.26                   5.0  \n",
       "2        100.0      0.77                   5.0  \n",
       "3         80.0      2.36                   4.9  \n",
       "4         82.4      3.13                   4.9  "
      ]
     },
     "execution_count": 7,
     "metadata": {},
     "output_type": "execute_result"
    }
   ],
   "source": [
    "ult_data = json.load((open(r'/home/evan/Programming/Jupiter Projects/Springboard Interview Challenge/ultimate_challenge/ultimate_data_challenge.json')))\n",
    "\n",
    "data = pd.DataFrame(ult_data)\n",
    "data.head()"
   ]
  },
  {
   "cell_type": "code",
   "execution_count": 8,
   "metadata": {
    "scrolled": true
   },
   "outputs": [
    {
     "data": {
      "text/plain": [
       "0    31196\n",
       "1    18804\n",
       "Name: active_users, dtype: int64"
      ]
     },
     "execution_count": 8,
     "metadata": {},
     "output_type": "execute_result"
    }
   ],
   "source": [
    "#create column for active users\n",
    "#a user is active if they took a trip within the last 30 days of the data (within june and first day of july)\n",
    "data['active_users'] = data['last_trip_date'].apply(lambda row: 1 if row >= \"2014-06-01\" else 0)\n",
    "data.active_users.value_counts()"
   ]
  },
  {
   "cell_type": "markdown",
   "metadata": {},
   "source": [
    "<font color='darkblue'> Well over half of users are not considered active on the metric of taking a trip in the preceding 30 days. There are 18,804 active users out of 50,000. While these are considered active users, everyone that has signed up has taken at least one trip even if it was on the same day and other users have taken many trips but not in the preceding 30 days of this data."
   ]
  },
  {
   "cell_type": "code",
   "execution_count": 9,
   "metadata": {},
   "outputs": [
    {
     "name": "stdout",
     "output_type": "stream",
     "text": [
      "<class 'pandas.core.frame.DataFrame'>\n",
      "RangeIndex: 50000 entries, 0 to 49999\n",
      "Data columns (total 13 columns):\n",
      " #   Column                  Non-Null Count  Dtype  \n",
      "---  ------                  --------------  -----  \n",
      " 0   city                    50000 non-null  object \n",
      " 1   trips_in_first_30_days  50000 non-null  int64  \n",
      " 2   signup_date             50000 non-null  object \n",
      " 3   avg_rating_of_driver    41878 non-null  float64\n",
      " 4   avg_surge               50000 non-null  float64\n",
      " 5   last_trip_date          50000 non-null  object \n",
      " 6   phone                   49604 non-null  object \n",
      " 7   surge_pct               50000 non-null  float64\n",
      " 8   ultimate_black_user     50000 non-null  bool   \n",
      " 9   weekday_pct             50000 non-null  float64\n",
      " 10  avg_dist                50000 non-null  float64\n",
      " 11  avg_rating_by_driver    49799 non-null  float64\n",
      " 12  active_users            50000 non-null  int64  \n",
      "dtypes: bool(1), float64(6), int64(2), object(4)\n",
      "memory usage: 4.6+ MB\n"
     ]
    }
   ],
   "source": [
    "data.info()"
   ]
  },
  {
   "cell_type": "markdown",
   "metadata": {},
   "source": [
    "<font color='darkblue'> Not all users gave the drivers a rating and not all drivers gave the users a rating. As these null values are not a huge portion of the data, those rows will be dropped to preserve the data integrity (as opposed to filling in with mean values etc). The phone column nulls will be categorized as 'other'."
   ]
  },
  {
   "cell_type": "code",
   "execution_count": 10,
   "metadata": {
    "scrolled": true
   },
   "outputs": [],
   "source": [
    "data = data.dropna(subset=['avg_rating_of_driver'])\n",
    "data = data.dropna(subset=['avg_rating_by_driver'])\n",
    "\n",
    "data['phone'].fillna(value='other', inplace = True)"
   ]
  },
  {
   "cell_type": "code",
   "execution_count": 11,
   "metadata": {},
   "outputs": [],
   "source": [
    "#drop any unnecessary columns - ones that won't be helpful in prediction\n",
    "data = data.drop(columns = [\"last_trip_date\", \"signup_date\"])"
   ]
  },
  {
   "cell_type": "code",
   "execution_count": 12,
   "metadata": {
    "scrolled": true
   },
   "outputs": [],
   "source": [
    "#use get_dummies to one-hot encode categorical features\n",
    "one_hot_city = pd.get_dummies(data['city'])\n",
    "one_hot_phone = pd.get_dummies(data['phone'])\n",
    "\n",
    "#drop original columns\n",
    "data = data.drop('city', axis = 1)\n",
    "data = data.drop('phone', axis = 1)\n",
    "\n",
    "#join one-hot encoded to dataframe\n",
    "data = data.join(one_hot_city)\n",
    "data = data.join(one_hot_phone)\n",
    "\n",
    "#define y as dependent variable (active users) and X as independent variables\n",
    "y = data[data.columns[8]]\n",
    "X = data.loc[:, data.columns != 'active_users']\n",
    "\n",
    "#split data for training and testing\n",
    "X_train, X_test, y_train, y_test = train_test_split(X, y, test_size=0.7, random_state=602)"
   ]
  },
  {
   "cell_type": "markdown",
   "metadata": {},
   "source": [
    "<font color='darkblue'> The following function loops through 8 different classifiers to find the one that works best on this data set."
   ]
  },
  {
   "cell_type": "code",
   "execution_count": 13,
   "metadata": {},
   "outputs": [],
   "source": [
    "#loops through all models in a list to caclulate its out of box accuracy\n",
    "\n",
    "#create list of models with names\n",
    "models = []\n",
    "models.append(('LR', LogisticRegression()))\n",
    "models.append(('LDA', LinearDiscriminantAnalysis()))\n",
    "models.append(('KNN', KNeighborsClassifier()))\n",
    "models.append(('CART', DecisionTreeClassifier()))\n",
    "models.append(('NB', GaussianNB()))\n",
    "models.append(('RF', RandomForestClassifier()))\n",
    "models.append(('ABoo', AdaBoostClassifier()))\n",
    "models.append(('SVC', LinearSVC()))\n",
    "\n",
    "# evaluate each model\n",
    "results = []\n",
    "names = []\n",
    "scoring = 'accuracy'\n",
    "msgs = []\n",
    "@ignore_warnings(category=ConvergenceWarning)\n",
    "def scores_list():\n",
    "    for name, model in models:\n",
    "        kfold = KFold(n_splits=10, random_state=5, shuffle=True)\n",
    "        cv_results = cross_val_score(model, X, y, cv=kfold, scoring=scoring)\n",
    "        results.append(cv_results)\n",
    "        names.append(name)\n",
    "        msg = \"%s: %f (%f)\" % (name, cv_results.mean(), cv_results.std())\n",
    "        msgs.append(msg)\n",
    "scores_list()"
   ]
  },
  {
   "cell_type": "code",
   "execution_count": 14,
   "metadata": {},
   "outputs": [
    {
     "data": {
      "image/png": "[encoded data removed]",
      "text/plain": [
       "<Figure size 432x288 with 1 Axes>"
      ]
     },
     "metadata": {
      "needs_background": "light"
     },
     "output_type": "display_data"
    }
   ],
   "source": [
    "#plot model accuracies with a box plot\n",
    "# boxplot algorithm comparison\n",
    "plt.rcParams.update({'font.size': 14})\n",
    "plt.rc('xtick', labelsize=12)\n",
    "plt.rc('ytick', labelsize=12)\n",
    "\n",
    "fig = plt.figure()\n",
    "fig.suptitle('Algorithm Comparison')\n",
    "ax = fig.add_subplot(111)\n",
    "plt.boxplot(results)\n",
    "ax.set_xticklabels(names)\n",
    "plt.show()"
   ]
  },
  {
   "cell_type": "markdown",
   "metadata": {},
   "source": [
    "<font color='darkblue'>Looks like overall the AdaBoost classifier will do the best job with this problem. Now to find the optimized parameters."
   ]
  },
  {
   "cell_type": "code",
   "execution_count": 15,
   "metadata": {},
   "outputs": [
    {
     "name": "stdout",
     "output_type": "stream",
     "text": [
      "GridSearchCV(cv=None, error_score=nan,\n",
      "             estimator=AdaBoostClassifier(algorithm='SAMME.R',\n",
      "                                          base_estimator=None,\n",
      "                                          learning_rate=1.0, n_estimators=50,\n",
      "                                          random_state=None),\n",
      "             iid='deprecated', n_jobs=None,\n",
      "             param_grid={'learning_rate': [0.1, 0.5, 1, 2],\n",
      "                         'n_estimators': [50, 100, 200]},\n",
      "             pre_dispatch='2*n_jobs', refit=True, return_train_score=False,\n",
      "             scoring=None, verbose=0)\n",
      "0.7759332134453139\n",
      "AdaBoostClassifier(algorithm='SAMME.R', base_estimator=None, learning_rate=1,\n",
      "                   n_estimators=200, random_state=None)\n"
     ]
    }
   ],
   "source": [
    "#find best params for adaboost using gridsearch cv\n",
    "adaboost_grid = GridSearchCV(estimator=AdaBoostClassifier(),\n",
    "                param_grid={'n_estimators': [50, 100, 200], 'learning_rate': [.1, .5, 1, 2]})\n",
    "\n",
    "adaboost_grid.fit(X_train, y_train)\n",
    "print(adaboost_grid)\n",
    "print(adaboost_grid.best_score_)\n",
    "print(adaboost_grid.best_estimator_)"
   ]
  },
  {
   "cell_type": "code",
   "execution_count": 16,
   "metadata": {
    "scrolled": true
   },
   "outputs": [
    {
     "data": {
      "text/plain": [
       "AdaBoostClassifier(algorithm='SAMME.R', base_estimator=None, learning_rate=1.0,\n",
       "                   n_estimators=100, random_state=602)"
      ]
     },
     "execution_count": 16,
     "metadata": {},
     "output_type": "execute_result"
    }
   ],
   "source": [
    "#use optimized parameters to initiate the model\n",
    "clf = AdaBoostClassifier(n_estimators=200, random_state=602)\n",
    "clf.fit(X_train, y_train)\n",
    "AdaBoostClassifier(n_estimators=100, random_state=602)\n"
   ]
  },
  {
   "cell_type": "code",
   "execution_count": 17,
   "metadata": {},
   "outputs": [
    {
     "name": "stdout",
     "output_type": "stream",
     "text": [
      "Weight: 0.225 | Feature: weekday_pct\n",
      "Weight: 0.220 | Feature: avg_dist\n",
      "Weight: 0.175 | Feature: surge_pct\n",
      "Weight: 0.140 | Feature: avg_surge\n",
      "Weight: 0.085 | Feature: avg_rating_by_driver\n",
      "Weight: 0.075 | Feature: trips_in_first_30_days\n",
      "Weight: 0.050 | Feature: avg_rating_of_driver\n",
      "Weight: 0.005 | Feature: ultimate_black_user\n",
      "Weight: 0.005 | Feature: Astapor\n",
      "Weight: 0.005 | Feature: King's Landing\n",
      "Weight: 0.005 | Feature: Winterfell\n",
      "Weight: 0.005 | Feature: Android\n",
      "Weight: 0.005 | Feature: other\n",
      "Weight: 0.000 | Feature: iPhone\n"
     ]
    }
   ],
   "source": [
    "#print feature weights in descending order\n",
    "\n",
    "#feature importances from the model\n",
    "fi = clf.feature_importances_\n",
    "\n",
    "#combine values and feature names\n",
    "feature_importance = zip(data.loc[:, data.columns != 'active_users'], fi)\n",
    "\n",
    "#sort by most important features\n",
    "feature_importance = sorted(feature_importance, key=lambda x:x[1], reverse=True)\n",
    "\n",
    "#print each feature\n",
    "for i, j in feature_importance:\n",
    "    print(f\"Weight: {j:.3f} | Feature: {i}\")"
   ]
  },
  {
   "cell_type": "markdown",
   "metadata": {},
   "source": [
    "<font color='darkblue'>We can now see which features of this data set are the best predictors for an active user in their 6th month. \n",
    "    \n",
    "In this model the most important predictors were what percent of the user's trips occured during a weekday, the average distance the user traveled in the first 30 days and the percentage of trips taken during a surge multiplier > 1.\n",
    "    \n",
    "If users have a higher percentage of trips during the weekday, there is a better chance that they have a schedule that relies on Ultimate - they need to use it consistently for their everyday lives versus other users that just use it casually during the weekends. It may be worth giving these users discounts to encourage their continuous use during the weekdays and discourage finding alternative transport. \n",
    "    \n",
    "The average distance is also a decent predictor, most likely because it needs to be competetive with other forms of transport that may be cheaper or more expensive depending on the distance of the trip. In this case the longer the average distance is the more likely they will be an active user, which is good news for Ultimate. It might be a good idea to put more focus towards creating a positive experience for shorter trips, for example, offering a discount if the user takes 5 trips a week under 3 miles.\n",
    "    \n",
    "Overall, I would argue that this definition of an active user is not very good. It may be better to look at average trips over time to get a better understanding of the users."
   ]
  }
 ],
 "metadata": {
  "kernelspec": {
   "display_name": "Python 3",
   "language": "python",
   "name": "python3"
  },
  "language_info": {
   "codemirror_mode": {
    "name": "ipython",
    "version": 3
   },
   "file_extension": ".py",
   "mimetype": "text/x-python",
   "name": "python",
   "nbconvert_exporter": "python",
   "pygments_lexer": "ipython3",
   "version": "3.7.6"
  }
 },
 "nbformat": 4,
 "nbformat_minor": 2
}
